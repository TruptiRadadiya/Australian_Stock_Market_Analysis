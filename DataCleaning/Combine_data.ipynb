{
 "cells": [
  {
   "cell_type": "code",
   "execution_count": 4,
   "id": "78260087-02b2-46fa-a96b-982cbf974e7f",
   "metadata": {},
   "outputs": [],
   "source": [
    "import pandas as pd\n",
    "\n",
    "# Read each sheet of the Excel file into separate DataFrames\n",
    "excel_file = \"resources\\merged_file.xlsx\"\n",
    "sheet_names = pd.ExcelFile(excel_file).sheet_names\n",
    "\n",
    "dfs = {}  # Dictionary to store DataFrames\n",
    "for sheet_name in sheet_names:\n",
    "    dfs[sheet_name] = pd.read_excel(excel_file, sheet_name=sheet_name)"
   ]
  },
  {
   "cell_type": "code",
   "execution_count": 5,
   "id": "92b27b7c-6538-4c67-956d-0505f06705bd",
   "metadata": {},
   "outputs": [],
   "source": [
    "# Get the column names of the first DataFrame\n",
    "unified_column_names = [\"ASX Code\", \"Security Group Code\", \"Issuer Full Name\", \"Product Description\", \"Last Price($)\", \"Business Date\"]\n",
    "\n",
    "# Rename the DataFrames in dfs with the unified column names \n",
    "for sheet_name, df in dfs.items():\n",
    "    df.columns = unified_column_names\n",
    "   \n",
    "# Iterate over each DataFrame in the dictionary\n",
    "for name, df in dfs.items():\n",
    "    # Extract the last four letters of the DataFrame name\n",
    "    year_value = name[-4:]\n",
    "    # Fill the \"Year\" column with the extracted value\n",
    "    df['Year'] = year_value"
   ]
  },
  {
   "cell_type": "code",
   "execution_count": 6,
   "id": "25f1ef7c-7990-430d-8175-1ca0d1f0da8b",
   "metadata": {},
   "outputs": [],
   "source": [
    "# Concatenate the data frames vertically\n",
    "combined_df = pd.concat(dfs, ignore_index=True)"
   ]
  },
  {
   "cell_type": "code",
   "execution_count": 7,
   "id": "978a3756-01e9-49ad-93bb-9e317e0a31f0",
   "metadata": {},
   "outputs": [],
   "source": [
    "# trim the ASX Code data\n",
    "combined_df['ASX Code'] = combined_df['ASX Code'].str.strip()"
   ]
  },
  {
   "cell_type": "code",
   "execution_count": 8,
   "id": "f2a15401-1f2c-4128-81df-e807e80ba593",
   "metadata": {},
   "outputs": [
    {
     "data": {
      "text/plain": [
       "53369"
      ]
     },
     "execution_count": 8,
     "metadata": {},
     "output_type": "execute_result"
    }
   ],
   "source": [
    "combined_df['ASX Code'].count()"
   ]
  },
  {
   "cell_type": "code",
   "execution_count": 9,
   "id": "2ec7a4e6-eba2-4ea7-89ec-c070df89f909",
   "metadata": {},
   "outputs": [
    {
     "data": {
      "text/plain": [
       "20812"
      ]
     },
     "execution_count": 9,
     "metadata": {},
     "output_type": "execute_result"
    }
   ],
   "source": [
    "# delete all the records that are not Equity \n",
    "combined_df = combined_df[combined_df['Security Group Code'] == 'EQY']\n",
    "\n",
    "combined_df['ASX Code'].count()"
   ]
  },
  {
   "cell_type": "code",
   "execution_count": 10,
   "id": "e0fa9161-51ad-4075-a924-4fac7b4a2380",
   "metadata": {},
   "outputs": [
    {
     "data": {
      "text/plain": [
       "20473"
      ]
     },
     "execution_count": 10,
     "metadata": {},
     "output_type": "execute_result"
    }
   ],
   "source": [
    "# delete all the records that are not Equity \n",
    "combined_df = combined_df[combined_df['Last Price($)'] != '-']\n",
    "combined_df['ASX Code'].count()"
   ]
  },
  {
   "cell_type": "code",
   "execution_count": 11,
   "id": "abb4778a-e3e8-42f3-8707-c31bd99f2d21",
   "metadata": {},
   "outputs": [],
   "source": [
    "combined_df.to_csv(\"resources\\combined_data.csv\", index = False)"
   ]
  },
  {
   "cell_type": "code",
   "execution_count": 12,
   "id": "094b285a-aec0-44ac-9b00-c2b52eacd568",
   "metadata": {},
   "outputs": [],
   "source": [
    "#Set the path for CSV files\n",
    "combined_data_path = \"resources\\combined_data.csv\"\n",
    "industries_path = \"resources\\industries.csv\""
   ]
  },
  {
   "cell_type": "code",
   "execution_count": 13,
   "id": "1deb4bcb",
   "metadata": {},
   "outputs": [],
   "source": [
    "#Read the CSV files\n",
    "combined_data_df = pd.read_csv(combined_data_path)\n",
    "industries_df = pd.read_csv(industries_path)"
   ]
  },
  {
   "cell_type": "code",
   "execution_count": 14,
   "id": "259af5f9-a464-4021-be4b-9619bc784436",
   "metadata": {},
   "outputs": [
    {
     "data": {
      "text/html": [
       "<div>\n",
       "<style scoped>\n",
       "    .dataframe tbody tr th:only-of-type {\n",
       "        vertical-align: middle;\n",
       "    }\n",
       "\n",
       "    .dataframe tbody tr th {\n",
       "        vertical-align: top;\n",
       "    }\n",
       "\n",
       "    .dataframe thead th {\n",
       "        text-align: right;\n",
       "    }\n",
       "</style>\n",
       "<table border=\"1\" class=\"dataframe\">\n",
       "  <thead>\n",
       "    <tr style=\"text-align: right;\">\n",
       "      <th></th>\n",
       "      <th>ASX Code</th>\n",
       "      <th>Security Group Code</th>\n",
       "      <th>Issuer Full Name</th>\n",
       "      <th>Product Description</th>\n",
       "      <th>Last Price($)</th>\n",
       "      <th>Business Date</th>\n",
       "      <th>Year</th>\n",
       "      <th>Company Name</th>\n",
       "      <th>Sub-Industry</th>\n",
       "    </tr>\n",
       "  </thead>\n",
       "  <tbody>\n",
       "    <tr>\n",
       "      <th>0</th>\n",
       "      <td>1AD</td>\n",
       "      <td>EQY</td>\n",
       "      <td>ADALTA LIMITED                                ...</td>\n",
       "      <td>ORDINARY</td>\n",
       "      <td>0.280</td>\n",
       "      <td>20170630</td>\n",
       "      <td>2017</td>\n",
       "      <td>Adalta Limited Ordinary</td>\n",
       "      <td>Biotechnology &amp; Medical Research</td>\n",
       "    </tr>\n",
       "    <tr>\n",
       "      <th>1</th>\n",
       "      <td>1AG</td>\n",
       "      <td>EQY</td>\n",
       "      <td>ALTERRA LIMITED                               ...</td>\n",
       "      <td>ORDINARY</td>\n",
       "      <td>0.024</td>\n",
       "      <td>20170630</td>\n",
       "      <td>2017</td>\n",
       "      <td>Alterra Limited Ordinary</td>\n",
       "      <td>Environmental Services &amp; Equipment</td>\n",
       "    </tr>\n",
       "    <tr>\n",
       "      <th>2</th>\n",
       "      <td>1AL</td>\n",
       "      <td>EQY</td>\n",
       "      <td>ONEALL INTERNATIONAL LIMITED                  ...</td>\n",
       "      <td>ORDINARY</td>\n",
       "      <td>0.910</td>\n",
       "      <td>20170630</td>\n",
       "      <td>2017</td>\n",
       "      <td>NaN</td>\n",
       "      <td>NaN</td>\n",
       "    </tr>\n",
       "    <tr>\n",
       "      <th>3</th>\n",
       "      <td>1PG</td>\n",
       "      <td>EQY</td>\n",
       "      <td>1-PAGE LIMITED                                ...</td>\n",
       "      <td>ORDINARY</td>\n",
       "      <td>0.165</td>\n",
       "      <td>20170308</td>\n",
       "      <td>2017</td>\n",
       "      <td>NaN</td>\n",
       "      <td>NaN</td>\n",
       "    </tr>\n",
       "    <tr>\n",
       "      <th>4</th>\n",
       "      <td>1ST</td>\n",
       "      <td>EQY</td>\n",
       "      <td>1ST GROUP LIMITED                             ...</td>\n",
       "      <td>ORDINARY</td>\n",
       "      <td>0.026</td>\n",
       "      <td>20170628</td>\n",
       "      <td>2017</td>\n",
       "      <td>NaN</td>\n",
       "      <td>NaN</td>\n",
       "    </tr>\n",
       "    <tr>\n",
       "      <th>...</th>\n",
       "      <td>...</td>\n",
       "      <td>...</td>\n",
       "      <td>...</td>\n",
       "      <td>...</td>\n",
       "      <td>...</td>\n",
       "      <td>...</td>\n",
       "      <td>...</td>\n",
       "      <td>...</td>\n",
       "      <td>...</td>\n",
       "    </tr>\n",
       "    <tr>\n",
       "      <th>20512</th>\n",
       "      <td>ZUSD</td>\n",
       "      <td>EQY</td>\n",
       "      <td>ANZ ETFS PHYSICAL US DOLLAR ETF               ...</td>\n",
       "      <td>ETF UNITS</td>\n",
       "      <td>10.290</td>\n",
       "      <td>20160630</td>\n",
       "      <td>2016</td>\n",
       "      <td>NaN</td>\n",
       "      <td>NaN</td>\n",
       "    </tr>\n",
       "    <tr>\n",
       "      <th>20513</th>\n",
       "      <td>ZYAU</td>\n",
       "      <td>EQY</td>\n",
       "      <td>ANZ ETFS S&amp;P/ASX 300 HIGH YIELD PLUS ETF      ...</td>\n",
       "      <td>ETF UNITS</td>\n",
       "      <td>9.590</td>\n",
       "      <td>20160629</td>\n",
       "      <td>2016</td>\n",
       "      <td>Global X S&amp;P/ASX 200 High Dividend ETF</td>\n",
       "      <td>NaN</td>\n",
       "    </tr>\n",
       "    <tr>\n",
       "      <th>20514</th>\n",
       "      <td>ZYB</td>\n",
       "      <td>EQY</td>\n",
       "      <td>ZYBER HOLDINGS LTD                            ...</td>\n",
       "      <td>ORDINARY</td>\n",
       "      <td>0.017</td>\n",
       "      <td>20160630</td>\n",
       "      <td>2016</td>\n",
       "      <td>NaN</td>\n",
       "      <td>NaN</td>\n",
       "    </tr>\n",
       "    <tr>\n",
       "      <th>20515</th>\n",
       "      <td>ZYL</td>\n",
       "      <td>EQY</td>\n",
       "      <td>ZYL LIMITED                                   ...</td>\n",
       "      <td>ORDINARY</td>\n",
       "      <td>0.007</td>\n",
       "      <td>20130927</td>\n",
       "      <td>2016</td>\n",
       "      <td>NaN</td>\n",
       "      <td>NaN</td>\n",
       "    </tr>\n",
       "    <tr>\n",
       "      <th>20516</th>\n",
       "      <td>ZYUS</td>\n",
       "      <td>EQY</td>\n",
       "      <td>ANZ ETFS S&amp;P 500 HIGH YIELD LOW VOLATILITY ETF...</td>\n",
       "      <td>ETF UNITS</td>\n",
       "      <td>12.100</td>\n",
       "      <td>20160630</td>\n",
       "      <td>2016</td>\n",
       "      <td>Global X S&amp;P 500 High Yield Low Volatility ETF</td>\n",
       "      <td>NaN</td>\n",
       "    </tr>\n",
       "  </tbody>\n",
       "</table>\n",
       "<p>20517 rows × 9 columns</p>\n",
       "</div>"
      ],
      "text/plain": [
       "      ASX Code Security Group Code  \\\n",
       "0          1AD                 EQY   \n",
       "1          1AG                 EQY   \n",
       "2          1AL                 EQY   \n",
       "3          1PG                 EQY   \n",
       "4          1ST                 EQY   \n",
       "...        ...                 ...   \n",
       "20512     ZUSD                 EQY   \n",
       "20513     ZYAU                 EQY   \n",
       "20514      ZYB                 EQY   \n",
       "20515      ZYL                 EQY   \n",
       "20516     ZYUS                 EQY   \n",
       "\n",
       "                                        Issuer Full Name  \\\n",
       "0      ADALTA LIMITED                                ...   \n",
       "1      ALTERRA LIMITED                               ...   \n",
       "2      ONEALL INTERNATIONAL LIMITED                  ...   \n",
       "3      1-PAGE LIMITED                                ...   \n",
       "4      1ST GROUP LIMITED                             ...   \n",
       "...                                                  ...   \n",
       "20512  ANZ ETFS PHYSICAL US DOLLAR ETF               ...   \n",
       "20513  ANZ ETFS S&P/ASX 300 HIGH YIELD PLUS ETF      ...   \n",
       "20514  ZYBER HOLDINGS LTD                            ...   \n",
       "20515  ZYL LIMITED                                   ...   \n",
       "20516  ANZ ETFS S&P 500 HIGH YIELD LOW VOLATILITY ETF...   \n",
       "\n",
       "        Product Description  Last Price($) Business Date  Year  \\\n",
       "0      ORDINARY                      0.280      20170630  2017   \n",
       "1      ORDINARY                      0.024      20170630  2017   \n",
       "2      ORDINARY                      0.910      20170630  2017   \n",
       "3      ORDINARY                      0.165      20170308  2017   \n",
       "4      ORDINARY                      0.026      20170628  2017   \n",
       "...                     ...            ...           ...   ...   \n",
       "20512  ETF UNITS                    10.290      20160630  2016   \n",
       "20513  ETF UNITS                     9.590      20160629  2016   \n",
       "20514  ORDINARY                      0.017      20160630  2016   \n",
       "20515  ORDINARY                      0.007      20130927  2016   \n",
       "20516  ETF UNITS                    12.100      20160630  2016   \n",
       "\n",
       "                                         Company Name  \\\n",
       "0                             Adalta Limited Ordinary   \n",
       "1                            Alterra Limited Ordinary   \n",
       "2                                                 NaN   \n",
       "3                                                 NaN   \n",
       "4                                                 NaN   \n",
       "...                                               ...   \n",
       "20512                                             NaN   \n",
       "20513          Global X S&P/ASX 200 High Dividend ETF   \n",
       "20514                                             NaN   \n",
       "20515                                             NaN   \n",
       "20516  Global X S&P 500 High Yield Low Volatility ETF   \n",
       "\n",
       "                             Sub-Industry  \n",
       "0        Biotechnology & Medical Research  \n",
       "1      Environmental Services & Equipment  \n",
       "2                                     NaN  \n",
       "3                                     NaN  \n",
       "4                                     NaN  \n",
       "...                                   ...  \n",
       "20512                                 NaN  \n",
       "20513                                 NaN  \n",
       "20514                                 NaN  \n",
       "20515                                 NaN  \n",
       "20516                                 NaN  \n",
       "\n",
       "[20517 rows x 9 columns]"
      ]
     },
     "execution_count": 14,
     "metadata": {},
     "output_type": "execute_result"
    }
   ],
   "source": [
    "#Merging combined data CSV and industries CSV files adding the Sub Industry column\n",
    "merged_df = combined_data_df.merge(industries_df, on=['ASX Code'], how='left')\n",
    "merged_df"
   ]
  },
  {
   "cell_type": "code",
   "execution_count": 15,
   "id": "6d7b7f08",
   "metadata": {},
   "outputs": [],
   "source": [
    "#Saving the final file as a CSV\n",
    "merged_df.to_csv('resources\\merged_industries.csv', index=False)"
   ]
  }
 ],
 "metadata": {
  "kernelspec": {
   "display_name": "Python 3 (ipykernel)",
   "language": "python",
   "name": "python3"
  },
  "language_info": {
   "codemirror_mode": {
    "name": "ipython",
    "version": 3
   },
   "file_extension": ".py",
   "mimetype": "text/x-python",
   "name": "python",
   "nbconvert_exporter": "python",
   "pygments_lexer": "ipython3",
   "version": "3.10.14"
  }
 },
 "nbformat": 4,
 "nbformat_minor": 5
}
