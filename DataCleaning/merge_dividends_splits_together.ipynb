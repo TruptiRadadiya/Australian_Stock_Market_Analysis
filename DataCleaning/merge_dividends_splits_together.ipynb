{
 "cells": [
  {
   "cell_type": "code",
   "execution_count": 109,
   "metadata": {},
   "outputs": [],
   "source": [
    "# Dependencies and Setup\n",
    "import pandas as pd\n"
   ]
  },
  {
   "cell_type": "code",
   "execution_count": 110,
   "metadata": {},
   "outputs": [
    {
     "data": {
      "text/plain": [
       "20513"
      ]
     },
     "execution_count": 110,
     "metadata": {},
     "output_type": "execute_result"
    }
   ],
   "source": [
    "# Load dividends_data.csv and using only the 'ASX Code' and 'Dividend' columns\n",
    "dividends_data = 'resources/dividends_data.csv'\n",
    "\n",
    "# Load splits_data.csv and using only the 'Year' and 'Splits' columns\n",
    "splits_data = 'resources/splits_data.csv'\n",
    "\n",
    "# Loading combined_data.csv to merge other file into\n",
    "combined_data = 'resources/merged_industries.csv'\n",
    "\n",
    "combined_data_df = pd.read_csv(combined_data)\n",
    "\n",
    "combined_data_df[\"ASX Code\"].count()\n"
   ]
  },
  {
   "cell_type": "code",
   "execution_count": 111,
   "metadata": {},
   "outputs": [],
   "source": [
    "# Read files into DataFrame\n",
    "dividends_data_df = pd.read_csv(dividends_data)\n",
    "splits_data_df = pd.read_csv(splits_data)\n"
   ]
  },
  {
   "cell_type": "code",
   "execution_count": 112,
   "metadata": {},
   "outputs": [
    {
     "data": {
      "text/html": [
       "<div>\n",
       "<style scoped>\n",
       "    .dataframe tbody tr th:only-of-type {\n",
       "        vertical-align: middle;\n",
       "    }\n",
       "\n",
       "    .dataframe tbody tr th {\n",
       "        vertical-align: top;\n",
       "    }\n",
       "\n",
       "    .dataframe thead th {\n",
       "        text-align: right;\n",
       "    }\n",
       "</style>\n",
       "<table border=\"1\" class=\"dataframe\">\n",
       "  <thead>\n",
       "    <tr style=\"text-align: right;\">\n",
       "      <th></th>\n",
       "      <th>ASX Code</th>\n",
       "      <th>Dividends</th>\n",
       "      <th>Year</th>\n",
       "    </tr>\n",
       "  </thead>\n",
       "  <tbody>\n",
       "    <tr>\n",
       "      <th>0</th>\n",
       "      <td>AAA</td>\n",
       "      <td>0.12</td>\n",
       "      <td>2024</td>\n",
       "    </tr>\n",
       "    <tr>\n",
       "      <th>1</th>\n",
       "      <td>AAA</td>\n",
       "      <td>0.14</td>\n",
       "      <td>2024</td>\n",
       "    </tr>\n",
       "    <tr>\n",
       "      <th>2</th>\n",
       "      <td>AAA</td>\n",
       "      <td>0.13</td>\n",
       "      <td>2024</td>\n",
       "    </tr>\n",
       "    <tr>\n",
       "      <th>3</th>\n",
       "      <td>AAA</td>\n",
       "      <td>0.12</td>\n",
       "      <td>2024</td>\n",
       "    </tr>\n",
       "    <tr>\n",
       "      <th>4</th>\n",
       "      <td>AAA</td>\n",
       "      <td>0.13</td>\n",
       "      <td>2023</td>\n",
       "    </tr>\n",
       "  </tbody>\n",
       "</table>\n",
       "</div>"
      ],
      "text/plain": [
       "  ASX Code  Dividends  Year\n",
       "0      AAA       0.12  2024\n",
       "1      AAA       0.14  2024\n",
       "2      AAA       0.13  2024\n",
       "3      AAA       0.12  2024\n",
       "4      AAA       0.13  2023"
      ]
     },
     "execution_count": 112,
     "metadata": {},
     "output_type": "execute_result"
    }
   ],
   "source": [
    "# Sorting by Year & ASX code, then sum totals\n",
    "total_splits = splits_data_df.groupby([\"ASX Code\",\"Year\"])[\"Splits\"].sum().reset_index()\n",
    "total_splits[\"Splits\"] = total_splits[\"Splits\"] + 1\n",
    "\n",
    "# Converting  Date column to datetime type in dividends_data then extracting Year for Data Column\n",
    "dividends_data_df[\"Date\"] = pd.to_datetime(dividends_data_df[\"Date\"],dayfirst=True)\n",
    "dividends_data_df['Year'] = dividends_data_df[\"Date\"].apply(lambda x: x.year - 1 if x.month <= 6 else x.year)\n",
    "dividends_data_df[\"Year\"] = dividends_data_df[\"Date\"].dt.year\n",
    "\n",
    "# Removing date column & grouping by ASX code & year, then totaling dividends\n",
    "dividends_data_df = dividends_data_df.drop(columns=[\"Date\"])\n",
    "sum_dividends = dividends_data_df.groupby([\"ASX Code\",\"Year\"])[\"Dividends\"].sum().reset_index()\n",
    "dividends_data_df.head()"
   ]
  },
  {
   "cell_type": "code",
   "execution_count": 113,
   "metadata": {},
   "outputs": [
    {
     "data": {
      "text/plain": [
       "20513"
      ]
     },
     "execution_count": 113,
     "metadata": {},
     "output_type": "execute_result"
    }
   ],
   "source": [
    "# Merge dividends_data with combined_data based on 'ASX Code' and 'Year'.\n",
    "combined_data = pd.merge(total_splits, sum_dividends, on=[\"ASX Code\", \"Year\"], how='outer')\n",
    "\n",
    "# Merging combined_data & dividends_data by Year & ASX Code\n",
    "combined_dividends_splits_data = pd.merge(total_splits, sum_dividends, on=[\"ASX Code\", \"Year\"], how='outer')\n",
    "\n",
    "# Merging combined_dividends_splits_data &  by Year & ASX Code\n",
    "Final_ASX_data = pd.merge(combined_data_df, combined_dividends_splits_data, on=[\"ASX Code\", \"Year\"], how='left')\n",
    "Final_ASX_data.head()\n",
    "\n",
    "# Removing null values\n",
    "Final_ASX_data[\"Splits\"].fillna(1, inplace=True)\n",
    "Final_ASX_data[\"Dividends\"].fillna(0, inplace=True)\n",
    "\n",
    "# Creating finalised data as CSV.file\n",
    "Final_ASX_data.to_csv('resources\\Cleaned_Final_ASX_data.csv', index=False)\n",
    "Final_ASX_data[\"ASX Code\"].count()"
   ]
  }
 ],
 "metadata": {
  "kernelspec": {
   "display_name": "Python 3",
   "language": "python",
   "name": "python3"
  },
  "language_info": {
   "codemirror_mode": {
    "name": "ipython",
    "version": 3
   },
   "file_extension": ".py",
   "mimetype": "text/x-python",
   "name": "python",
   "nbconvert_exporter": "python",
   "pygments_lexer": "ipython3",
   "version": "3.11.7"
  }
 },
 "nbformat": 4,
 "nbformat_minor": 2
}
